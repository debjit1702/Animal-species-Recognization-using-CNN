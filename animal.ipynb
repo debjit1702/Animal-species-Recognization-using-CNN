{
 "cells": [
  {
   "cell_type": "code",
   "execution_count": null,
   "metadata": {},
   "outputs": [],
   "source": [
    "# Import libraries\n",
    "import os  # For interacting with the file system\n",
    "import shutil  # For managing files and directories in a cross-platform manner\n",
    "import keras  # For building deep learning models\n",
    "import numpy as np  # For numerical operations on arrays\n",
    "from glob import glob  # For finding file paths\n",
    "from tqdm import tqdm  # For progress bars\n",
    "\n",
    "# Data preprocessing\n",
    "from keras.preprocessing.image import ImageDataGenerator  # For image data augmentation\n",
    "\n",
    "# Data visualization\n",
    "import seaborn as sns  # For statistical visualizations\n",
    "import plotly.graph_objs as go  # For interactive visualizations\n",
    "import matplotlib.pyplot as plt  # For creating static plots\n",
    "\n",
    "# Model architecture\n",
    "from keras import Sequential  # For building sequential models\n",
    "from keras.models import load_model  # For loading pre-trained models\n",
    "from keras.layers import Dense, GlobalAvgPool2D as GAP, Dropout  # For defining model layers\n",
    "\n",
    "# Training callbacks\n",
    "from keras.callbacks import ModelCheckpoint, EarlyStopping  # For training callbacks\n",
    "\n",
    "# Pre-trained models\n",
    "from tensorflow.keras.applications import InceptionV3, Xception, ResNet152V2  # For using pre-trained models"
   ]
  },
  {
   "cell_type": "code",
   "execution_count": null,
   "metadata": {},
   "outputs": [],
   "source": [
    "# Set the path to the dataset\n",
    "data_path = '../input/animals10/raw-img'\n",
    "\n",
    "# Get a list of class names from the data path\n",
    "class_names = sorted(os.listdir(data_path))\n",
    "\n",
    "# Count the number of classes\n",
    "num_classes = len(class_names)\n",
    "# Print the class names and the total number of classes\n",
    "print(\"Class Names: \\n\", class_names)\n",
    "print(\"Number of Classes:\", num_classes)"
   ]
  },
  {
   "cell_type": "code",
   "execution_count": null,
   "metadata": {},
   "outputs": [],
   "source": [
    "# Get the number of samples in each class\n",
    "class_sizes = []\n",
    "for name in class_names:\n",
    "    class_size = len(os.listdir(data_path + \"/\" + name))\n",
    "    class_sizes.append(class_size)\n",
    "    \n",
    "# Print the class distribution\n",
    "print(\"Class Distribution:\\n\", class_sizes)"
   ]
  },
  {
   "cell_type": "code",
   "execution_count": null,
   "metadata": {},
   "outputs": [],
   "source": [
    "# Define the data\n",
    "data = go.Pie(labels=class_names, values=class_sizes)\n",
    "\n",
    "# Define the layout\n",
    "layout = go.Layout(title={\"text\": \"Class Distribution\", \"x\": 0.5})\n",
    "\n",
    "# Create the figure\n",
    "fig = go.Figure(data=data, layout=layout)\n",
    "\n",
    "# Display the figure\n",
    "fig.show()"
   ]
  },
  {
   "cell_type": "code",
   "execution_count": null,
   "metadata": {},
   "outputs": [],
   "source": [
    "# Plot a bar graph of the number of images in each class\n",
    "\n",
    "# Set the size of the figure\n",
    "plt.figure(figsize=(10,5))\n",
    "\n",
    "# Plot a bar chart using the class names as the x-axis and class sizes as the y-axis\n",
    "sns.barplot(x=class_names, y=class_sizes)\n",
    "\n",
    "# Add a grid to the plot\n",
    "plt.grid()\n",
    "\n",
    "# Add a horizontal line to show the mean number of images across all classes\n",
    "plt.axhline(np.mean(class_sizes), color='black', linestyle=':', label=\"Average number of images per class\")\n",
    "\n",
    "# Add a legend to the plot\n",
    "plt.legend()\n",
    "\n",
    "# Show the plot\n",
    "plt.show()\n"
   ]
  },
  {
   "cell_type": "code",
   "execution_count": null,
   "metadata": {},
   "outputs": [],
   "source": [
    "# Set the path to the directory where the sampled data will be saved\n",
    "sampled_data_path = './sampled-data'\n",
    "\n",
    "# Create the sampled data directory if it doesn't exist\n",
    "if not os.path.exists(sampled_data_path):\n",
    "    os.mkdir(sampled_data_path)\n",
    "\n",
    "# Set the percentage of each class to sample\n",
    "sample_percent = 0.1\n",
    "\n",
    "# Loop through each class directory and copy a percentage of the images to the sampled data directory\n",
    "for class_name in os.listdir(data_path):\n",
    "    # Get the path to the original class directory\n",
    "    class_path = os.path.join(data_path, class_name)\n",
    "    # Get the English name of the class\n",
    "    class_name_en = class_names_dict[class_name]\n",
    "    # Get the path to the sampled class directory\n",
    "    sampled_class_path = os.path.join(sampled_data_path, class_name_en)\n",
    "    # Create the sampled class directory if it doesn't exist\n",
    "    if not os.path.exists(sampled_class_path):\n",
    "        os.mkdir(sampled_class_path)\n",
    "    # Get a list of all the image files in the class directory\n",
    "    image_files = os.listdir(class_path)\n",
    "    # Calculate the number of images to sample\n",
    "    num_images = int(len(image_files) * sample_percent)\n",
    "    # Sample the images\n",
    "    sampled_images = np.random.choice(image_files, size=num_images, replace=False)\n",
    "    # Copy the sampled images to the sampled class directory\n",
    "    for image_name in sampled_images:\n",
    "          src_path = os.path.join(class_path, image_name)\n",
    "        dst_path = os.path.join(sampled_class_path, image_name)\n",
    "        shutil.copyfile(src_path, dst_path)"
   ]
  },
  {
   "cell_type": "code",
   "execution_count": null,
   "metadata": {},
   "outputs": [],
   "source": [
    "# Get a list of class names from the sampled data directory\n",
    "class_names = sorted(os.listdir(sampled_data_path))\n",
    "\n",
    "# Get the number of samples in each class\n",
    "class_sizes = []\n",
    "for name in class_names:\n",
    "    # Get the number of samples in the class directory\n",
    "    class_size = len(os.listdir(os.path.join(sampled_data_path, name)))\n",
    "    class_sizes.append(class_size)\n",
    "    \n",
    "# Print the class distribution\n",
    "print(\"Class Distribution:\\n\", class_sizes)"
   ]
  }
 ],
 "metadata": {
  "language_info": {
   "name": "python"
  }
 },
 "nbformat": 4,
 "nbformat_minor": 2
}
